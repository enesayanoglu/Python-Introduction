{
  "nbformat": 4,
  "nbformat_minor": 0,
  "metadata": {
    "colab": {
      "name": "Python_Introduction.ipynb",
      "provenance": [],
      "collapsed_sections": []
    },
    "kernelspec": {
      "name": "python3",
      "display_name": "Python 3"
    },
    "language_info": {
      "name": "python"
    }
  },
  "cells": [
    {
      "cell_type": "code",
      "metadata": {
        "colab": {
          "base_uri": "https://localhost:8080/"
        },
        "id": "U8zfBzD_8N6m",
        "outputId": "90d7c982-65fd-43d4-f4d5-d3f246d71e52"
      },
      "source": [
        "print(\"Enes Ayanoglu\")"
      ],
      "execution_count": 35,
      "outputs": [
        {
          "output_type": "stream",
          "text": [
            "Enes Ayanoglu\n"
          ],
          "name": "stdout"
        }
      ]
    },
    {
      "cell_type": "code",
      "metadata": {
        "colab": {
          "base_uri": "https://localhost:8080/"
        },
        "id": "U_hFaDvx8_N7",
        "outputId": "3cfd9785-4f46-45af-a591-87360bd8f55a"
      },
      "source": [
        "print(\"Ayan\"+\"oglu\")"
      ],
      "execution_count": 36,
      "outputs": [
        {
          "output_type": "stream",
          "text": [
            "Ayanoglu\n"
          ],
          "name": "stdout"
        }
      ]
    },
    {
      "cell_type": "code",
      "metadata": {
        "colab": {
          "base_uri": "https://localhost:8080/"
        },
        "id": "8t9t1b1I9V3Q",
        "outputId": "672798c9-fec4-46a4-c80d-d8f0a45d3e9f"
      },
      "source": [
        "print(\"Enes\")\n",
        "print(\"Ayanoğlu\")"
      ],
      "execution_count": 37,
      "outputs": [
        {
          "output_type": "stream",
          "text": [
            "Enes\n",
            "Ayanoğlu\n"
          ],
          "name": "stdout"
        }
      ]
    },
    {
      "cell_type": "code",
      "metadata": {
        "colab": {
          "base_uri": "https://localhost:8080/"
        },
        "id": "zGF9qXVb9d-N",
        "outputId": "c7bfaf65-7d12-44fb-e49c-ad31a121f923"
      },
      "source": [
        "print(\"Enes\", end=' ')\n",
        "print(\"Ayanoğlu\")"
      ],
      "execution_count": 38,
      "outputs": [
        {
          "output_type": "stream",
          "text": [
            "Enes Ayanoğlu\n"
          ],
          "name": "stdout"
        }
      ]
    },
    {
      "cell_type": "code",
      "metadata": {
        "colab": {
          "base_uri": "https://localhost:8080/"
        },
        "id": "nXKM929V-L_1",
        "outputId": "c081009a-05ce-4e8b-a204-a22187784765"
      },
      "source": [
        "print(\"Enes\", \"Mehmet\",sep=\", \",end=' ')\n",
        "print(\"Ayanoğlu\")"
      ],
      "execution_count": 39,
      "outputs": [
        {
          "output_type": "stream",
          "text": [
            "Enes, Mehmet Ayanoğlu\n"
          ],
          "name": "stdout"
        }
      ]
    },
    {
      "cell_type": "code",
      "metadata": {
        "id": "3B4ROwDd-h1W"
      },
      "source": [
        "print?"
      ],
      "execution_count": 40,
      "outputs": []
    },
    {
      "cell_type": "code",
      "metadata": {
        "colab": {
          "base_uri": "https://localhost:8080/"
        },
        "id": "RW4Z1UJR-uXe",
        "outputId": "aede83e1-17dc-43e2-fdb6-5ea2b86770cd"
      },
      "source": [
        "a = \"Enes\"\n",
        "print(type(a))\n",
        "a = 16\n",
        "print(type(a))\n",
        "a = 16.0\n",
        "print(type(a))\n",
        "a = True\n",
        "print(type(a))"
      ],
      "execution_count": 41,
      "outputs": [
        {
          "output_type": "stream",
          "text": [
            "<class 'str'>\n",
            "<class 'int'>\n",
            "<class 'float'>\n",
            "<class 'bool'>\n"
          ],
          "name": "stdout"
        }
      ]
    },
    {
      "cell_type": "code",
      "metadata": {
        "colab": {
          "base_uri": "https://localhost:8080/"
        },
        "id": "flZamqss_LmM",
        "outputId": "0480d7f4-43bb-455b-a91d-c42f7d46e774"
      },
      "source": [
        "a = \"16\"\n",
        "print(type(a))\n",
        "a = int(a)\n",
        "print(type(a))\n",
        "print(a)"
      ],
      "execution_count": 42,
      "outputs": [
        {
          "output_type": "stream",
          "text": [
            "<class 'str'>\n",
            "<class 'int'>\n",
            "16\n"
          ],
          "name": "stdout"
        }
      ]
    },
    {
      "cell_type": "code",
      "metadata": {
        "id": "2KqyoAZo_fHQ",
        "colab": {
          "base_uri": "https://localhost:8080/"
        },
        "outputId": "83d63bf4-39e3-465b-afd2-a06df5d08838"
      },
      "source": [
        "if a==16:\n",
        "  print(\"Here\")\n",
        "elif a==17:\n",
        "  print(\"Here2\")\n",
        "else:\n",
        "  print(\"Here3\")"
      ],
      "execution_count": 43,
      "outputs": [
        {
          "output_type": "stream",
          "text": [
            "Here\n"
          ],
          "name": "stdout"
        }
      ]
    },
    {
      "cell_type": "code",
      "metadata": {
        "id": "4A1-OB5D_8fs"
      },
      "source": [
        "def aplusb(a,b):\n",
        "  if a==0 or b==0:\n",
        "    print(\"Warning!\")\n",
        "  return a + b  "
      ],
      "execution_count": 44,
      "outputs": []
    },
    {
      "cell_type": "code",
      "metadata": {
        "colab": {
          "base_uri": "https://localhost:8080/"
        },
        "id": "_Sg9UHICAoYN",
        "outputId": "01a0e9d7-d39b-4735-a104-c7b83439caf9"
      },
      "source": [
        "print(aplusb(a=\"a\",b=\"b\"))"
      ],
      "execution_count": 45,
      "outputs": [
        {
          "output_type": "stream",
          "text": [
            "ab\n"
          ],
          "name": "stdout"
        }
      ]
    },
    {
      "cell_type": "code",
      "metadata": {
        "colab": {
          "base_uri": "https://localhost:8080/"
        },
        "id": "DHLVe05kA8Ip",
        "outputId": "57d3005c-96f2-4069-e70a-f4a2e1237a92"
      },
      "source": [
        "print(aplusb(a=10,b=2))"
      ],
      "execution_count": 46,
      "outputs": [
        {
          "output_type": "stream",
          "text": [
            "12\n"
          ],
          "name": "stdout"
        }
      ]
    },
    {
      "cell_type": "code",
      "metadata": {
        "colab": {
          "base_uri": "https://localhost:8080/"
        },
        "id": "M4PUAg6oBCir",
        "outputId": "77089104-b808-42b2-deb0-215da1bfa42e"
      },
      "source": [
        "print(aplusb(10,2))"
      ],
      "execution_count": 47,
      "outputs": [
        {
          "output_type": "stream",
          "text": [
            "12\n"
          ],
          "name": "stdout"
        }
      ]
    },
    {
      "cell_type": "code",
      "metadata": {
        "colab": {
          "base_uri": "https://localhost:8080/"
        },
        "id": "4EvTZSYvBGWr",
        "outputId": "cab2bc6b-a825-441e-f708-01d65591224d"
      },
      "source": [
        "print(aplusb(str(10),\"b\"))"
      ],
      "execution_count": 48,
      "outputs": [
        {
          "output_type": "stream",
          "text": [
            "10b\n"
          ],
          "name": "stdout"
        }
      ]
    },
    {
      "cell_type": "code",
      "metadata": {
        "colab": {
          "base_uri": "https://localhost:8080/"
        },
        "id": "rDZ2q5ftAtVN",
        "outputId": "4fddad94-c24d-47a7-d57b-c920b0580efa"
      },
      "source": [
        "%whos"
      ],
      "execution_count": 49,
      "outputs": [
        {
          "output_type": "stream",
          "text": [
            "Variable     Type        Data/Info\n",
            "----------------------------------\n",
            "a            int         16\n",
            "aplusb       function    <function aplusb at 0x7f695a30e440>\n",
            "array2       list        n=4\n",
            "b            str         Ayanoglu\n",
            "dictionary   dict        n=3\n",
            "function4    function    <function function4 at 0x7f695ae14950>\n",
            "i            int         3\n",
            "np           module      <module 'numpy' from '/us<...>kages/numpy/__init__.py'>\n",
            "plt          module      <module 'matplotlib.pyplo<...>es/matplotlib/pyplot.py'>\n",
            "tuple_       tuple       n=3\n"
          ],
          "name": "stdout"
        }
      ]
    },
    {
      "cell_type": "code",
      "metadata": {
        "id": "zjX3IFpUBQaW"
      },
      "source": [
        "array = [15,True,\"a\",12]"
      ],
      "execution_count": 50,
      "outputs": []
    },
    {
      "cell_type": "code",
      "metadata": {
        "colab": {
          "base_uri": "https://localhost:8080/"
        },
        "id": "ZzBv5abSBZzw",
        "outputId": "cf42f49c-05a7-477d-d80e-bf9024ba81d1"
      },
      "source": [
        "array[0]"
      ],
      "execution_count": 51,
      "outputs": [
        {
          "output_type": "execute_result",
          "data": {
            "text/plain": [
              "15"
            ]
          },
          "metadata": {
            "tags": []
          },
          "execution_count": 51
        }
      ]
    },
    {
      "cell_type": "code",
      "metadata": {
        "colab": {
          "base_uri": "https://localhost:8080/"
        },
        "id": "L64e3y5NBc9g",
        "outputId": "c6a90b5f-776e-457b-97c8-fccb8fad8014"
      },
      "source": [
        "array[-1]"
      ],
      "execution_count": 52,
      "outputs": [
        {
          "output_type": "execute_result",
          "data": {
            "text/plain": [
              "12"
            ]
          },
          "metadata": {
            "tags": []
          },
          "execution_count": 52
        }
      ]
    },
    {
      "cell_type": "code",
      "metadata": {
        "colab": {
          "base_uri": "https://localhost:8080/"
        },
        "id": "Z2uI7V4xBgXH",
        "outputId": "401460b7-f269-4649-e104-088ca3d6403c"
      },
      "source": [
        "array[:2]"
      ],
      "execution_count": 53,
      "outputs": [
        {
          "output_type": "execute_result",
          "data": {
            "text/plain": [
              "[15, True]"
            ]
          },
          "metadata": {
            "tags": []
          },
          "execution_count": 53
        }
      ]
    },
    {
      "cell_type": "code",
      "metadata": {
        "colab": {
          "base_uri": "https://localhost:8080/"
        },
        "id": "XzP45eWeBlYh",
        "outputId": "769f5c26-1cef-45d4-acb8-3e6a645648fd"
      },
      "source": [
        "array[2:]"
      ],
      "execution_count": 54,
      "outputs": [
        {
          "output_type": "execute_result",
          "data": {
            "text/plain": [
              "['a', 12]"
            ]
          },
          "metadata": {
            "tags": []
          },
          "execution_count": 54
        }
      ]
    },
    {
      "cell_type": "code",
      "metadata": {
        "colab": {
          "base_uri": "https://localhost:8080/"
        },
        "id": "XfF1BI-kBobp",
        "outputId": "3921be00-a56e-4d07-fd98-0c2208d5ae2f"
      },
      "source": [
        "array[1:3]"
      ],
      "execution_count": 55,
      "outputs": [
        {
          "output_type": "execute_result",
          "data": {
            "text/plain": [
              "[True, 'a']"
            ]
          },
          "metadata": {
            "tags": []
          },
          "execution_count": 55
        }
      ]
    },
    {
      "cell_type": "code",
      "metadata": {
        "colab": {
          "base_uri": "https://localhost:8080/"
        },
        "id": "EQdHJwWSB4iW",
        "outputId": "7dffccab-3424-4492-ac74-a42be991ba89"
      },
      "source": [
        "len(array)"
      ],
      "execution_count": 56,
      "outputs": [
        {
          "output_type": "execute_result",
          "data": {
            "text/plain": [
              "4"
            ]
          },
          "metadata": {
            "tags": []
          },
          "execution_count": 56
        }
      ]
    },
    {
      "cell_type": "code",
      "metadata": {
        "id": "qvjA6URsB-0i"
      },
      "source": [
        "array2 = [1,5,7,3]"
      ],
      "execution_count": 57,
      "outputs": []
    },
    {
      "cell_type": "code",
      "metadata": {
        "colab": {
          "base_uri": "https://localhost:8080/"
        },
        "id": "Qt7xWQ4ZB7W3",
        "outputId": "64694ef8-64b8-49cd-948e-f47fd02c72f6"
      },
      "source": [
        "max(array2)"
      ],
      "execution_count": 58,
      "outputs": [
        {
          "output_type": "execute_result",
          "data": {
            "text/plain": [
              "7"
            ]
          },
          "metadata": {
            "tags": []
          },
          "execution_count": 58
        }
      ]
    },
    {
      "cell_type": "code",
      "metadata": {
        "colab": {
          "base_uri": "https://localhost:8080/"
        },
        "id": "f_Eg7OK5CE1-",
        "outputId": "75e917e8-d91b-4dde-cfb7-0a530c5fec24"
      },
      "source": [
        "min(array2)"
      ],
      "execution_count": 59,
      "outputs": [
        {
          "output_type": "execute_result",
          "data": {
            "text/plain": [
              "1"
            ]
          },
          "metadata": {
            "tags": []
          },
          "execution_count": 59
        }
      ]
    },
    {
      "cell_type": "code",
      "metadata": {
        "id": "pVTq_loJCIVz"
      },
      "source": [
        "b = \"Ayanoglu\""
      ],
      "execution_count": 60,
      "outputs": []
    },
    {
      "cell_type": "code",
      "metadata": {
        "colab": {
          "base_uri": "https://localhost:8080/",
          "height": 37
        },
        "id": "w3ASHBlDCMfL",
        "outputId": "d06b6a0f-8d92-41bc-9e04-94b18599129a"
      },
      "source": [
        "b[0:3]"
      ],
      "execution_count": 61,
      "outputs": [
        {
          "output_type": "execute_result",
          "data": {
            "application/vnd.google.colaboratory.intrinsic+json": {
              "type": "string"
            },
            "text/plain": [
              "'Aya'"
            ]
          },
          "metadata": {
            "tags": []
          },
          "execution_count": 61
        }
      ]
    },
    {
      "cell_type": "code",
      "metadata": {
        "colab": {
          "base_uri": "https://localhost:8080/"
        },
        "id": "QkwX9INyCbWq",
        "outputId": "674f30c0-107b-44fe-8656-7cef9e1e00f0"
      },
      "source": [
        "b.find('a')"
      ],
      "execution_count": 62,
      "outputs": [
        {
          "output_type": "execute_result",
          "data": {
            "text/plain": [
              "2"
            ]
          },
          "metadata": {
            "tags": []
          },
          "execution_count": 62
        }
      ]
    },
    {
      "cell_type": "code",
      "metadata": {
        "colab": {
          "base_uri": "https://localhost:8080/"
        },
        "id": "BH-6TUk0C1rg",
        "outputId": "78aeb642-ba46-46ed-e5a5-6f669799717d"
      },
      "source": [
        "%whos"
      ],
      "execution_count": 63,
      "outputs": [
        {
          "output_type": "stream",
          "text": [
            "Variable     Type        Data/Info\n",
            "----------------------------------\n",
            "a            int         16\n",
            "aplusb       function    <function aplusb at 0x7f695a30e440>\n",
            "array        list        n=4\n",
            "array2       list        n=4\n",
            "b            str         Ayanoglu\n",
            "dictionary   dict        n=3\n",
            "function4    function    <function function4 at 0x7f695ae14950>\n",
            "i            int         3\n",
            "np           module      <module 'numpy' from '/us<...>kages/numpy/__init__.py'>\n",
            "plt          module      <module 'matplotlib.pyplo<...>es/matplotlib/pyplot.py'>\n",
            "tuple_       tuple       n=3\n"
          ],
          "name": "stdout"
        }
      ]
    },
    {
      "cell_type": "code",
      "metadata": {
        "id": "Cq4ImfnjC7Lv"
      },
      "source": [
        "dictionary = {'Enes':90,'Mehmet':\"Ahmet\", \"Sayi\":0.1} "
      ],
      "execution_count": 64,
      "outputs": []
    },
    {
      "cell_type": "code",
      "metadata": {
        "colab": {
          "base_uri": "https://localhost:8080/"
        },
        "id": "r7UuufG8DL--",
        "outputId": "ca5e3424-f0ab-4f43-9b02-b3f5b608b793"
      },
      "source": [
        "dictionary['Enes']"
      ],
      "execution_count": 65,
      "outputs": [
        {
          "output_type": "execute_result",
          "data": {
            "text/plain": [
              "90"
            ]
          },
          "metadata": {
            "tags": []
          },
          "execution_count": 65
        }
      ]
    },
    {
      "cell_type": "code",
      "metadata": {
        "colab": {
          "base_uri": "https://localhost:8080/",
          "height": 37
        },
        "id": "f5d773MoDUSt",
        "outputId": "df0d7e55-f6c6-44e9-8415-3e5d5655603f"
      },
      "source": [
        "dictionary['Mehmet']"
      ],
      "execution_count": 66,
      "outputs": [
        {
          "output_type": "execute_result",
          "data": {
            "application/vnd.google.colaboratory.intrinsic+json": {
              "type": "string"
            },
            "text/plain": [
              "'Ahmet'"
            ]
          },
          "metadata": {
            "tags": []
          },
          "execution_count": 66
        }
      ]
    },
    {
      "cell_type": "code",
      "metadata": {
        "id": "qRkYse-VDY-P"
      },
      "source": [
        "tuple_ = (10,20,25)"
      ],
      "execution_count": 67,
      "outputs": []
    },
    {
      "cell_type": "code",
      "metadata": {
        "colab": {
          "base_uri": "https://localhost:8080/"
        },
        "id": "VzGhgCKZDfR8",
        "outputId": "22c1f81e-802f-4e3c-e727-684e6f5b093c"
      },
      "source": [
        "for i in tuple_:\n",
        "  print(i)"
      ],
      "execution_count": 68,
      "outputs": [
        {
          "output_type": "stream",
          "text": [
            "10\n",
            "20\n",
            "25\n"
          ],
          "name": "stdout"
        }
      ]
    },
    {
      "cell_type": "code",
      "metadata": {
        "colab": {
          "base_uri": "https://localhost:8080/"
        },
        "id": "k2QPxR7yDyyZ",
        "outputId": "0929548a-4fb4-4cc2-841c-db9794423425"
      },
      "source": [
        "for i in array2:\n",
        "  print(i)"
      ],
      "execution_count": 69,
      "outputs": [
        {
          "output_type": "stream",
          "text": [
            "1\n",
            "5\n",
            "7\n",
            "3\n"
          ],
          "name": "stdout"
        }
      ]
    },
    {
      "cell_type": "code",
      "metadata": {
        "colab": {
          "base_uri": "https://localhost:8080/"
        },
        "id": "OTilsAGbDwHi",
        "outputId": "5346a5bd-e5a8-4bce-ddab-93502c251852"
      },
      "source": [
        "for i in range(2,10):\n",
        "  print(i)"
      ],
      "execution_count": 70,
      "outputs": [
        {
          "output_type": "stream",
          "text": [
            "2\n",
            "3\n",
            "4\n",
            "5\n",
            "6\n",
            "7\n",
            "8\n",
            "9\n"
          ],
          "name": "stdout"
        }
      ]
    },
    {
      "cell_type": "code",
      "metadata": {
        "colab": {
          "base_uri": "https://localhost:8080/"
        },
        "id": "AJBxnc9lD_lB",
        "outputId": "570ca14b-6f7a-4589-9a58-0863c026e498"
      },
      "source": [
        "for i in range(2,10,2):\n",
        "  print(i)"
      ],
      "execution_count": 71,
      "outputs": [
        {
          "output_type": "stream",
          "text": [
            "2\n",
            "4\n",
            "6\n",
            "8\n"
          ],
          "name": "stdout"
        }
      ]
    },
    {
      "cell_type": "code",
      "metadata": {
        "colab": {
          "base_uri": "https://localhost:8080/"
        },
        "id": "1hhROL36EKhD",
        "outputId": "c119371a-caa0-4eba-df5d-83270ed46a21"
      },
      "source": [
        "for i in range(20,10,-1):\n",
        "  print(i)"
      ],
      "execution_count": 72,
      "outputs": [
        {
          "output_type": "stream",
          "text": [
            "20\n",
            "19\n",
            "18\n",
            "17\n",
            "16\n",
            "15\n",
            "14\n",
            "13\n",
            "12\n",
            "11\n"
          ],
          "name": "stdout"
        }
      ]
    },
    {
      "cell_type": "code",
      "metadata": {
        "colab": {
          "base_uri": "https://localhost:8080/"
        },
        "id": "ASyCETzPEW1Z",
        "outputId": "e80c447f-5e66-42ca-e1fb-54d844ab04fa"
      },
      "source": [
        "a2 = [15,57,89,56]\n",
        "N=len(a2)\n",
        "for i in range(N):\n",
        "  print(i)"
      ],
      "execution_count": 73,
      "outputs": [
        {
          "output_type": "stream",
          "text": [
            "0\n",
            "1\n",
            "2\n",
            "3\n"
          ],
          "name": "stdout"
        }
      ]
    },
    {
      "cell_type": "code",
      "metadata": {
        "colab": {
          "base_uri": "https://localhost:8080/"
        },
        "id": "b5yfYHKzEtDk",
        "outputId": "e5372660-7d1d-48b9-86ce-c96c2b6de25c"
      },
      "source": [
        "for i in range(N):\n",
        "  for j in range(N):\n",
        "    print(j)"
      ],
      "execution_count": 74,
      "outputs": [
        {
          "output_type": "stream",
          "text": [
            "0\n",
            "1\n",
            "2\n",
            "3\n",
            "0\n",
            "1\n",
            "2\n",
            "3\n",
            "0\n",
            "1\n",
            "2\n",
            "3\n",
            "0\n",
            "1\n",
            "2\n",
            "3\n"
          ],
          "name": "stdout"
        }
      ]
    },
    {
      "cell_type": "code",
      "metadata": {
        "id": "T3DkQcGjFFpY"
      },
      "source": [
        "a2.sort()"
      ],
      "execution_count": 75,
      "outputs": []
    },
    {
      "cell_type": "code",
      "metadata": {
        "colab": {
          "base_uri": "https://localhost:8080/"
        },
        "id": "gBS45DqqFQqX",
        "outputId": "fd3e74b1-3d64-4378-e5b4-6c44d41364b3"
      },
      "source": [
        "print(a2)"
      ],
      "execution_count": 76,
      "outputs": [
        {
          "output_type": "stream",
          "text": [
            "[15, 56, 57, 89]\n"
          ],
          "name": "stdout"
        }
      ]
    },
    {
      "cell_type": "code",
      "metadata": {
        "id": "Um9GVR6xFYf5"
      },
      "source": [
        "class student():\n",
        "  def __init__(self,id=0,name=\"\",surname=\"\"):\n",
        "    self.id = id\n",
        "    self.name = name\n",
        "    self.surname = surname\n",
        "  def return_Id(self):\n",
        "    return self.id\n",
        "\n",
        "  def __str__(self):\n",
        "    return str(self.__dict__)"
      ],
      "execution_count": 77,
      "outputs": []
    },
    {
      "cell_type": "code",
      "metadata": {
        "id": "a4In8eXcGAV4"
      },
      "source": [
        "s = student(25,\"Enes\", \"Ayanoglu\")"
      ],
      "execution_count": 78,
      "outputs": []
    },
    {
      "cell_type": "code",
      "metadata": {
        "colab": {
          "base_uri": "https://localhost:8080/"
        },
        "id": "Fo8vOOLHGM2X",
        "outputId": "eba8d7f5-8e0d-4b7e-cbfe-fea8e06a5cdd"
      },
      "source": [
        "s.id"
      ],
      "execution_count": 79,
      "outputs": [
        {
          "output_type": "execute_result",
          "data": {
            "text/plain": [
              "25"
            ]
          },
          "metadata": {
            "tags": []
          },
          "execution_count": 79
        }
      ]
    },
    {
      "cell_type": "code",
      "metadata": {
        "colab": {
          "base_uri": "https://localhost:8080/"
        },
        "id": "bXr2IbanGPGc",
        "outputId": "785a9ac2-78aa-4c7b-ca88-fa2c96f9fe46"
      },
      "source": [
        "s.return_Id()"
      ],
      "execution_count": 80,
      "outputs": [
        {
          "output_type": "execute_result",
          "data": {
            "text/plain": [
              "25"
            ]
          },
          "metadata": {
            "tags": []
          },
          "execution_count": 80
        }
      ]
    },
    {
      "cell_type": "code",
      "metadata": {
        "colab": {
          "base_uri": "https://localhost:8080/"
        },
        "id": "d0-tK8dPGRwG",
        "outputId": "780fa0e9-0d07-4768-82fb-4f7e85a06f5c"
      },
      "source": [
        "print(s)"
      ],
      "execution_count": 81,
      "outputs": [
        {
          "output_type": "stream",
          "text": [
            "{'id': 25, 'name': 'Enes', 'surname': 'Ayanoglu'}\n"
          ],
          "name": "stdout"
        }
      ]
    },
    {
      "cell_type": "code",
      "metadata": {
        "id": "EiL3SN6kHGuT"
      },
      "source": [
        "s1 =student()"
      ],
      "execution_count": 82,
      "outputs": []
    },
    {
      "cell_type": "code",
      "metadata": {
        "colab": {
          "base_uri": "https://localhost:8080/"
        },
        "id": "yq2Rds0xHK3C",
        "outputId": "73405370-fe9c-4821-e061-c4d09bcce818"
      },
      "source": [
        "print(s1)"
      ],
      "execution_count": 83,
      "outputs": [
        {
          "output_type": "stream",
          "text": [
            "{'id': 0, 'name': '', 'surname': ''}\n"
          ],
          "name": "stdout"
        }
      ]
    },
    {
      "cell_type": "code",
      "metadata": {
        "colab": {
          "base_uri": "https://localhost:8080/"
        },
        "id": "LmtuIyeHH5yn",
        "outputId": "71d1568d-eaed-40d4-f99f-19c2ec64c0f6"
      },
      "source": [
        "!pip install opencv-python"
      ],
      "execution_count": 84,
      "outputs": [
        {
          "output_type": "stream",
          "text": [
            "Requirement already satisfied: opencv-python in /usr/local/lib/python3.7/dist-packages (4.1.2.30)\n",
            "Requirement already satisfied: numpy>=1.14.5 in /usr/local/lib/python3.7/dist-packages (from opencv-python) (1.19.5)\n"
          ],
          "name": "stdout"
        }
      ]
    },
    {
      "cell_type": "code",
      "metadata": {
        "id": "mzM7kCDOI9Ij"
      },
      "source": [
        "import cv2 as cv"
      ],
      "execution_count": 85,
      "outputs": []
    },
    {
      "cell_type": "code",
      "metadata": {
        "colab": {
          "base_uri": "https://localhost:8080/"
        },
        "id": "HByUFxBTJILn",
        "outputId": "c66be51b-9ab6-4208-a05c-4aa7772453e4"
      },
      "source": [
        "print( cv.__version__ )"
      ],
      "execution_count": 86,
      "outputs": [
        {
          "output_type": "stream",
          "text": [
            "4.1.2\n"
          ],
          "name": "stdout"
        }
      ]
    },
    {
      "cell_type": "code",
      "metadata": {
        "id": "rubr15sUMVWH"
      },
      "source": [
        "import matplotlib.pyplot as plt\n",
        "import numpy as np"
      ],
      "execution_count": 87,
      "outputs": []
    },
    {
      "cell_type": "code",
      "metadata": {
        "id": "FxJr3OU2MhYh"
      },
      "source": [
        "a = np.arange(0,15)"
      ],
      "execution_count": 88,
      "outputs": []
    },
    {
      "cell_type": "code",
      "metadata": {
        "colab": {
          "base_uri": "https://localhost:8080/"
        },
        "id": "5jnSiDiIMs-E",
        "outputId": "ebe03494-09cc-4d8b-f832-8120353a70c6"
      },
      "source": [
        "a"
      ],
      "execution_count": 89,
      "outputs": [
        {
          "output_type": "execute_result",
          "data": {
            "text/plain": [
              "array([ 0,  1,  2,  3,  4,  5,  6,  7,  8,  9, 10, 11, 12, 13, 14])"
            ]
          },
          "metadata": {
            "tags": []
          },
          "execution_count": 89
        }
      ]
    },
    {
      "cell_type": "code",
      "metadata": {
        "colab": {
          "base_uri": "https://localhost:8080/"
        },
        "id": "hASlqCWQM1W2",
        "outputId": "120bc8dd-f441-4601-8f24-e97adb5c4f44"
      },
      "source": [
        "len(a)"
      ],
      "execution_count": 90,
      "outputs": [
        {
          "output_type": "execute_result",
          "data": {
            "text/plain": [
              "15"
            ]
          },
          "metadata": {
            "tags": []
          },
          "execution_count": 90
        }
      ]
    },
    {
      "cell_type": "code",
      "metadata": {
        "id": "hpzvWReYMcc_"
      },
      "source": [
        "a = a.reshape(3,5)"
      ],
      "execution_count": 91,
      "outputs": []
    },
    {
      "cell_type": "code",
      "metadata": {
        "colab": {
          "base_uri": "https://localhost:8080/"
        },
        "id": "d_wZ5kitM4dD",
        "outputId": "4bc312ea-3764-4bc2-90c9-5713b01cd9e6"
      },
      "source": [
        "a"
      ],
      "execution_count": 92,
      "outputs": [
        {
          "output_type": "execute_result",
          "data": {
            "text/plain": [
              "array([[ 0,  1,  2,  3,  4],\n",
              "       [ 5,  6,  7,  8,  9],\n",
              "       [10, 11, 12, 13, 14]])"
            ]
          },
          "metadata": {
            "tags": []
          },
          "execution_count": 92
        }
      ]
    },
    {
      "cell_type": "code",
      "metadata": {
        "id": "nAkA0HOPM7eN"
      },
      "source": [
        "a2 = a.reshape(5,3)"
      ],
      "execution_count": 93,
      "outputs": []
    },
    {
      "cell_type": "code",
      "metadata": {
        "colab": {
          "base_uri": "https://localhost:8080/"
        },
        "id": "SRPlMwdfM_ZV",
        "outputId": "a4bcf128-0db9-45f8-bb53-dda7b3210d24"
      },
      "source": [
        "a2"
      ],
      "execution_count": 94,
      "outputs": [
        {
          "output_type": "execute_result",
          "data": {
            "text/plain": [
              "array([[ 0,  1,  2],\n",
              "       [ 3,  4,  5],\n",
              "       [ 6,  7,  8],\n",
              "       [ 9, 10, 11],\n",
              "       [12, 13, 14]])"
            ]
          },
          "metadata": {
            "tags": []
          },
          "execution_count": 94
        }
      ]
    },
    {
      "cell_type": "code",
      "metadata": {
        "colab": {
          "base_uri": "https://localhost:8080/"
        },
        "id": "XqrKiYekNDLm",
        "outputId": "eef2f7d2-bece-441d-fb6d-1db9c35235e0"
      },
      "source": [
        "a*a"
      ],
      "execution_count": 95,
      "outputs": [
        {
          "output_type": "execute_result",
          "data": {
            "text/plain": [
              "array([[  0,   1,   4,   9,  16],\n",
              "       [ 25,  36,  49,  64,  81],\n",
              "       [100, 121, 144, 169, 196]])"
            ]
          },
          "metadata": {
            "tags": []
          },
          "execution_count": 95
        }
      ]
    },
    {
      "cell_type": "code",
      "metadata": {
        "colab": {
          "base_uri": "https://localhost:8080/"
        },
        "id": "2RyT3fDsN1iG",
        "outputId": "32e4e8ee-559c-4ff9-ae19-01c1cd21a1f9"
      },
      "source": [
        "a2"
      ],
      "execution_count": 96,
      "outputs": [
        {
          "output_type": "execute_result",
          "data": {
            "text/plain": [
              "array([[ 0,  1,  2],\n",
              "       [ 3,  4,  5],\n",
              "       [ 6,  7,  8],\n",
              "       [ 9, 10, 11],\n",
              "       [12, 13, 14]])"
            ]
          },
          "metadata": {
            "tags": []
          },
          "execution_count": 96
        }
      ]
    },
    {
      "cell_type": "code",
      "metadata": {
        "colab": {
          "base_uri": "https://localhost:8080/"
        },
        "id": "ZY9uM0u4OBI9",
        "outputId": "6f3fd052-0541-4125-bf09-ac386a5e34a0"
      },
      "source": [
        "2**2"
      ],
      "execution_count": 97,
      "outputs": [
        {
          "output_type": "execute_result",
          "data": {
            "text/plain": [
              "4"
            ]
          },
          "metadata": {
            "tags": []
          },
          "execution_count": 97
        }
      ]
    },
    {
      "cell_type": "code",
      "metadata": {
        "colab": {
          "base_uri": "https://localhost:8080/"
        },
        "id": "c6jChyKrNa0u",
        "outputId": "5748ac74-5dfd-44b0-f2c0-736d4ac6197a"
      },
      "source": [
        "(a2)**3"
      ],
      "execution_count": 98,
      "outputs": [
        {
          "output_type": "execute_result",
          "data": {
            "text/plain": [
              "array([[   0,    1,    8],\n",
              "       [  27,   64,  125],\n",
              "       [ 216,  343,  512],\n",
              "       [ 729, 1000, 1331],\n",
              "       [1728, 2197, 2744]])"
            ]
          },
          "metadata": {
            "tags": []
          },
          "execution_count": 98
        }
      ]
    },
    {
      "cell_type": "code",
      "metadata": {
        "id": "96_kFj3HNHpy"
      },
      "source": [
        "np.matmul?"
      ],
      "execution_count": 99,
      "outputs": []
    },
    {
      "cell_type": "code",
      "metadata": {
        "colab": {
          "base_uri": "https://localhost:8080/"
        },
        "id": "VPOngjF8NTg8",
        "outputId": "024907f0-e56d-4a6b-be6e-4e346367150d"
      },
      "source": [
        "print(np.matmul(a,a2))"
      ],
      "execution_count": 100,
      "outputs": [
        {
          "output_type": "stream",
          "text": [
            "[[ 90 100 110]\n",
            " [240 275 310]\n",
            " [390 450 510]]\n"
          ],
          "name": "stdout"
        }
      ]
    },
    {
      "cell_type": "code",
      "metadata": {
        "colab": {
          "base_uri": "https://localhost:8080/"
        },
        "id": "ldNdlcmpOfTT",
        "outputId": "afb9a9e4-7673-4eda-fe60-0cb2c7d5b993"
      },
      "source": [
        "np.linspace(0,200,500)"
      ],
      "execution_count": 101,
      "outputs": [
        {
          "output_type": "execute_result",
          "data": {
            "text/plain": [
              "array([  0.        ,   0.4008016 ,   0.80160321,   1.20240481,\n",
              "         1.60320641,   2.00400802,   2.40480962,   2.80561122,\n",
              "         3.20641283,   3.60721443,   4.00801603,   4.40881764,\n",
              "         4.80961924,   5.21042084,   5.61122244,   6.01202405,\n",
              "         6.41282565,   6.81362725,   7.21442886,   7.61523046,\n",
              "         8.01603206,   8.41683367,   8.81763527,   9.21843687,\n",
              "         9.61923848,  10.02004008,  10.42084168,  10.82164329,\n",
              "        11.22244489,  11.62324649,  12.0240481 ,  12.4248497 ,\n",
              "        12.8256513 ,  13.22645291,  13.62725451,  14.02805611,\n",
              "        14.42885772,  14.82965932,  15.23046092,  15.63126253,\n",
              "        16.03206413,  16.43286573,  16.83366733,  17.23446894,\n",
              "        17.63527054,  18.03607214,  18.43687375,  18.83767535,\n",
              "        19.23847695,  19.63927856,  20.04008016,  20.44088176,\n",
              "        20.84168337,  21.24248497,  21.64328657,  22.04408818,\n",
              "        22.44488978,  22.84569138,  23.24649299,  23.64729459,\n",
              "        24.04809619,  24.4488978 ,  24.8496994 ,  25.250501  ,\n",
              "        25.65130261,  26.05210421,  26.45290581,  26.85370741,\n",
              "        27.25450902,  27.65531062,  28.05611222,  28.45691383,\n",
              "        28.85771543,  29.25851703,  29.65931864,  30.06012024,\n",
              "        30.46092184,  30.86172345,  31.26252505,  31.66332665,\n",
              "        32.06412826,  32.46492986,  32.86573146,  33.26653307,\n",
              "        33.66733467,  34.06813627,  34.46893788,  34.86973948,\n",
              "        35.27054108,  35.67134269,  36.07214429,  36.47294589,\n",
              "        36.87374749,  37.2745491 ,  37.6753507 ,  38.0761523 ,\n",
              "        38.47695391,  38.87775551,  39.27855711,  39.67935872,\n",
              "        40.08016032,  40.48096192,  40.88176353,  41.28256513,\n",
              "        41.68336673,  42.08416834,  42.48496994,  42.88577154,\n",
              "        43.28657315,  43.68737475,  44.08817635,  44.48897796,\n",
              "        44.88977956,  45.29058116,  45.69138277,  46.09218437,\n",
              "        46.49298597,  46.89378758,  47.29458918,  47.69539078,\n",
              "        48.09619238,  48.49699399,  48.89779559,  49.29859719,\n",
              "        49.6993988 ,  50.1002004 ,  50.501002  ,  50.90180361,\n",
              "        51.30260521,  51.70340681,  52.10420842,  52.50501002,\n",
              "        52.90581162,  53.30661323,  53.70741483,  54.10821643,\n",
              "        54.50901804,  54.90981964,  55.31062124,  55.71142285,\n",
              "        56.11222445,  56.51302605,  56.91382766,  57.31462926,\n",
              "        57.71543086,  58.11623246,  58.51703407,  58.91783567,\n",
              "        59.31863727,  59.71943888,  60.12024048,  60.52104208,\n",
              "        60.92184369,  61.32264529,  61.72344689,  62.1242485 ,\n",
              "        62.5250501 ,  62.9258517 ,  63.32665331,  63.72745491,\n",
              "        64.12825651,  64.52905812,  64.92985972,  65.33066132,\n",
              "        65.73146293,  66.13226453,  66.53306613,  66.93386774,\n",
              "        67.33466934,  67.73547094,  68.13627255,  68.53707415,\n",
              "        68.93787575,  69.33867735,  69.73947896,  70.14028056,\n",
              "        70.54108216,  70.94188377,  71.34268537,  71.74348697,\n",
              "        72.14428858,  72.54509018,  72.94589178,  73.34669339,\n",
              "        73.74749499,  74.14829659,  74.5490982 ,  74.9498998 ,\n",
              "        75.3507014 ,  75.75150301,  76.15230461,  76.55310621,\n",
              "        76.95390782,  77.35470942,  77.75551102,  78.15631263,\n",
              "        78.55711423,  78.95791583,  79.35871743,  79.75951904,\n",
              "        80.16032064,  80.56112224,  80.96192385,  81.36272545,\n",
              "        81.76352705,  82.16432866,  82.56513026,  82.96593186,\n",
              "        83.36673347,  83.76753507,  84.16833667,  84.56913828,\n",
              "        84.96993988,  85.37074148,  85.77154309,  86.17234469,\n",
              "        86.57314629,  86.9739479 ,  87.3747495 ,  87.7755511 ,\n",
              "        88.17635271,  88.57715431,  88.97795591,  89.37875752,\n",
              "        89.77955912,  90.18036072,  90.58116232,  90.98196393,\n",
              "        91.38276553,  91.78356713,  92.18436874,  92.58517034,\n",
              "        92.98597194,  93.38677355,  93.78757515,  94.18837675,\n",
              "        94.58917836,  94.98997996,  95.39078156,  95.79158317,\n",
              "        96.19238477,  96.59318637,  96.99398798,  97.39478958,\n",
              "        97.79559118,  98.19639279,  98.59719439,  98.99799599,\n",
              "        99.3987976 ,  99.7995992 , 100.2004008 , 100.6012024 ,\n",
              "       101.00200401, 101.40280561, 101.80360721, 102.20440882,\n",
              "       102.60521042, 103.00601202, 103.40681363, 103.80761523,\n",
              "       104.20841683, 104.60921844, 105.01002004, 105.41082164,\n",
              "       105.81162325, 106.21242485, 106.61322645, 107.01402806,\n",
              "       107.41482966, 107.81563126, 108.21643287, 108.61723447,\n",
              "       109.01803607, 109.41883768, 109.81963928, 110.22044088,\n",
              "       110.62124248, 111.02204409, 111.42284569, 111.82364729,\n",
              "       112.2244489 , 112.6252505 , 113.0260521 , 113.42685371,\n",
              "       113.82765531, 114.22845691, 114.62925852, 115.03006012,\n",
              "       115.43086172, 115.83166333, 116.23246493, 116.63326653,\n",
              "       117.03406814, 117.43486974, 117.83567134, 118.23647295,\n",
              "       118.63727455, 119.03807615, 119.43887776, 119.83967936,\n",
              "       120.24048096, 120.64128257, 121.04208417, 121.44288577,\n",
              "       121.84368737, 122.24448898, 122.64529058, 123.04609218,\n",
              "       123.44689379, 123.84769539, 124.24849699, 124.6492986 ,\n",
              "       125.0501002 , 125.4509018 , 125.85170341, 126.25250501,\n",
              "       126.65330661, 127.05410822, 127.45490982, 127.85571142,\n",
              "       128.25651303, 128.65731463, 129.05811623, 129.45891784,\n",
              "       129.85971944, 130.26052104, 130.66132265, 131.06212425,\n",
              "       131.46292585, 131.86372745, 132.26452906, 132.66533066,\n",
              "       133.06613226, 133.46693387, 133.86773547, 134.26853707,\n",
              "       134.66933868, 135.07014028, 135.47094188, 135.87174349,\n",
              "       136.27254509, 136.67334669, 137.0741483 , 137.4749499 ,\n",
              "       137.8757515 , 138.27655311, 138.67735471, 139.07815631,\n",
              "       139.47895792, 139.87975952, 140.28056112, 140.68136273,\n",
              "       141.08216433, 141.48296593, 141.88376754, 142.28456914,\n",
              "       142.68537074, 143.08617234, 143.48697395, 143.88777555,\n",
              "       144.28857715, 144.68937876, 145.09018036, 145.49098196,\n",
              "       145.89178357, 146.29258517, 146.69338677, 147.09418838,\n",
              "       147.49498998, 147.89579158, 148.29659319, 148.69739479,\n",
              "       149.09819639, 149.498998  , 149.8997996 , 150.3006012 ,\n",
              "       150.70140281, 151.10220441, 151.50300601, 151.90380762,\n",
              "       152.30460922, 152.70541082, 153.10621242, 153.50701403,\n",
              "       153.90781563, 154.30861723, 154.70941884, 155.11022044,\n",
              "       155.51102204, 155.91182365, 156.31262525, 156.71342685,\n",
              "       157.11422846, 157.51503006, 157.91583166, 158.31663327,\n",
              "       158.71743487, 159.11823647, 159.51903808, 159.91983968,\n",
              "       160.32064128, 160.72144289, 161.12224449, 161.52304609,\n",
              "       161.9238477 , 162.3246493 , 162.7254509 , 163.12625251,\n",
              "       163.52705411, 163.92785571, 164.32865731, 164.72945892,\n",
              "       165.13026052, 165.53106212, 165.93186373, 166.33266533,\n",
              "       166.73346693, 167.13426854, 167.53507014, 167.93587174,\n",
              "       168.33667335, 168.73747495, 169.13827655, 169.53907816,\n",
              "       169.93987976, 170.34068136, 170.74148297, 171.14228457,\n",
              "       171.54308617, 171.94388778, 172.34468938, 172.74549098,\n",
              "       173.14629259, 173.54709419, 173.94789579, 174.34869739,\n",
              "       174.749499  , 175.1503006 , 175.5511022 , 175.95190381,\n",
              "       176.35270541, 176.75350701, 177.15430862, 177.55511022,\n",
              "       177.95591182, 178.35671343, 178.75751503, 179.15831663,\n",
              "       179.55911824, 179.95991984, 180.36072144, 180.76152305,\n",
              "       181.16232465, 181.56312625, 181.96392786, 182.36472946,\n",
              "       182.76553106, 183.16633267, 183.56713427, 183.96793587,\n",
              "       184.36873747, 184.76953908, 185.17034068, 185.57114228,\n",
              "       185.97194389, 186.37274549, 186.77354709, 187.1743487 ,\n",
              "       187.5751503 , 187.9759519 , 188.37675351, 188.77755511,\n",
              "       189.17835671, 189.57915832, 189.97995992, 190.38076152,\n",
              "       190.78156313, 191.18236473, 191.58316633, 191.98396794,\n",
              "       192.38476954, 192.78557114, 193.18637275, 193.58717435,\n",
              "       193.98797595, 194.38877756, 194.78957916, 195.19038076,\n",
              "       195.59118236, 195.99198397, 196.39278557, 196.79358717,\n",
              "       197.19438878, 197.59519038, 197.99599198, 198.39679359,\n",
              "       198.79759519, 199.19839679, 199.5991984 , 200.        ])"
            ]
          },
          "metadata": {
            "tags": []
          },
          "execution_count": 101
        }
      ]
    },
    {
      "cell_type": "code",
      "metadata": {
        "colab": {
          "base_uri": "https://localhost:8080/"
        },
        "id": "kFQttQXsOtO9",
        "outputId": "49172553-1155-428f-f053-d09629bacd7a"
      },
      "source": [
        "np.arange(0,200,2)"
      ],
      "execution_count": 102,
      "outputs": [
        {
          "output_type": "execute_result",
          "data": {
            "text/plain": [
              "array([  0,   2,   4,   6,   8,  10,  12,  14,  16,  18,  20,  22,  24,\n",
              "        26,  28,  30,  32,  34,  36,  38,  40,  42,  44,  46,  48,  50,\n",
              "        52,  54,  56,  58,  60,  62,  64,  66,  68,  70,  72,  74,  76,\n",
              "        78,  80,  82,  84,  86,  88,  90,  92,  94,  96,  98, 100, 102,\n",
              "       104, 106, 108, 110, 112, 114, 116, 118, 120, 122, 124, 126, 128,\n",
              "       130, 132, 134, 136, 138, 140, 142, 144, 146, 148, 150, 152, 154,\n",
              "       156, 158, 160, 162, 164, 166, 168, 170, 172, 174, 176, 178, 180,\n",
              "       182, 184, 186, 188, 190, 192, 194, 196, 198])"
            ]
          },
          "metadata": {
            "tags": []
          },
          "execution_count": 102
        }
      ]
    },
    {
      "cell_type": "code",
      "metadata": {
        "id": "qIMVkWCOO0-a"
      },
      "source": [
        "a = np.array(a, dtype='float32')"
      ],
      "execution_count": 103,
      "outputs": []
    },
    {
      "cell_type": "code",
      "metadata": {
        "colab": {
          "base_uri": "https://localhost:8080/"
        },
        "id": "QUHz0dMUO6wa",
        "outputId": "011d25a1-4069-455a-cd99-ae2b9d1054b9"
      },
      "source": [
        "a"
      ],
      "execution_count": 104,
      "outputs": [
        {
          "output_type": "execute_result",
          "data": {
            "text/plain": [
              "array([[ 0.,  1.,  2.,  3.,  4.],\n",
              "       [ 5.,  6.,  7.,  8.,  9.],\n",
              "       [10., 11., 12., 13., 14.]], dtype=float32)"
            ]
          },
          "metadata": {
            "tags": []
          },
          "execution_count": 104
        }
      ]
    },
    {
      "cell_type": "code",
      "metadata": {
        "colab": {
          "base_uri": "https://localhost:8080/",
          "height": 312
        },
        "id": "g8J1bgvCPFBi",
        "outputId": "645bb319-8fe9-40f3-bcd7-4e0d9bf492bb"
      },
      "source": [
        "plt.plot(np.arange(0,15),np.arange(0,30,2), \"y-*\", linewidth=3,label=\"a1\")\n",
        "plt.plot(np.arange(0,15),np.arange(0,60,4), \"b-o\", linewidth=3,label=\"a2\")\n",
        "plt.legend()\n",
        "plt.grid()\n",
        "plt.xlabel('x')\n",
        "plt.ylabel('y')\n",
        "plt.title(\"Example Plot\")"
      ],
      "execution_count": 105,
      "outputs": [
        {
          "output_type": "execute_result",
          "data": {
            "text/plain": [
              "Text(0.5, 1.0, 'Example Plot')"
            ]
          },
          "metadata": {
            "tags": []
          },
          "execution_count": 105
        },
        {
          "output_type": "display_data",
          "data": {
            "image/png": "[encoded data removed]",
            "text/plain": [
              "<Figure size 432x288 with 1 Axes>"
            ]
          },
          "metadata": {
            "tags": [],
            "needs_background": "light"
          }
        }
      ]
    },
    {
      "cell_type": "code",
      "metadata": {
        "colab": {
          "base_uri": "https://localhost:8080/"
        },
        "id": "JS5TTB15QVu8",
        "outputId": "d63841b4-d57a-4584-f4a1-ca8edd3d7cc5"
      },
      "source": [
        "np.sqrt(16)"
      ],
      "execution_count": 106,
      "outputs": [
        {
          "output_type": "execute_result",
          "data": {
            "text/plain": [
              "4.0"
            ]
          },
          "metadata": {
            "tags": []
          },
          "execution_count": 106
        }
      ]
    },
    {
      "cell_type": "code",
      "metadata": {
        "id": "cq_akqFAQIdL"
      },
      "source": [
        "def function2(x):\n",
        "  return x**2"
      ],
      "execution_count": 107,
      "outputs": []
    },
    {
      "cell_type": "code",
      "metadata": {
        "id": "URWeNBm5Qe_m"
      },
      "source": [
        "def function3(x):\n",
        "  return (x-8)**2"
      ],
      "execution_count": 108,
      "outputs": []
    },
    {
      "cell_type": "code",
      "metadata": {
        "colab": {
          "base_uri": "https://localhost:8080/",
          "height": 312
        },
        "id": "QeRg6quEQqcf",
        "outputId": "d0f642a6-d04f-48f8-cb9b-368897122bea"
      },
      "source": [
        "plt.plot(np.arange(3,81),function2(np.arange(3,81)), \"y-*\", linewidth=3,label=\"x^2\")\n",
        "plt.plot(np.arange(3,81),function3(np.arange(3,81)), \"y-*\", linewidth=3,label=\"x^3-x\")\n",
        "plt.ylim((0,100))\n",
        "plt.legend()\n",
        "plt.grid()\n",
        "plt.xlabel('x')\n",
        "plt.ylabel('y')\n",
        "plt.title(\"Example Plot\")"
      ],
      "execution_count": 109,
      "outputs": [
        {
          "output_type": "execute_result",
          "data": {
            "text/plain": [
              "Text(0.5, 1.0, 'Example Plot')"
            ]
          },
          "metadata": {
            "tags": []
          },
          "execution_count": 109
        },
        {
          "output_type": "display_data",
          "data": {
            "image/png": "[encoded data removed]",
            "text/plain": [
              "<Figure size 432x288 with 1 Axes>"
            ]
          },
          "metadata": {
            "tags": [],
            "needs_background": "light"
          }
        }
      ]
    },
    {
      "cell_type": "code",
      "metadata": {
        "id": "HSEuQy4IR5BI"
      },
      "source": [
        "c = function3(np.arange(3,81))"
      ],
      "execution_count": 110,
      "outputs": []
    },
    {
      "cell_type": "code",
      "metadata": {
        "id": "UBr9OtLMR9-m"
      },
      "source": [
        "d = function2(np.arange(3,81))"
      ],
      "execution_count": 111,
      "outputs": []
    },
    {
      "cell_type": "code",
      "metadata": {
        "colab": {
          "base_uri": "https://localhost:8080/"
        },
        "id": "JLLCDoEGSVp1",
        "outputId": "7a327124-b1a7-491e-b631-a80213882692"
      },
      "source": [
        "c==d"
      ],
      "execution_count": 112,
      "outputs": [
        {
          "output_type": "execute_result",
          "data": {
            "text/plain": [
              "array([False,  True, False, False, False, False, False, False, False,\n",
              "       False, False, False, False, False, False, False, False, False,\n",
              "       False, False, False, False, False, False, False, False, False,\n",
              "       False, False, False, False, False, False, False, False, False,\n",
              "       False, False, False, False, False, False, False, False, False,\n",
              "       False, False, False, False, False, False, False, False, False,\n",
              "       False, False, False, False, False, False, False, False, False,\n",
              "       False, False, False, False, False, False, False, False, False,\n",
              "       False, False, False, False, False, False])"
            ]
          },
          "metadata": {
            "tags": []
          },
          "execution_count": 112
        }
      ]
    },
    {
      "cell_type": "code",
      "metadata": {
        "colab": {
          "base_uri": "https://localhost:8080/"
        },
        "id": "kIho6K5WT-f6",
        "outputId": "ab8c4abf-4bbe-4cff-82e5-148dc2404c22"
      },
      "source": [
        "np.linspace(-3,3.0,200)"
      ],
      "execution_count": 113,
      "outputs": [
        {
          "output_type": "execute_result",
          "data": {
            "text/plain": [
              "array([-3.        , -2.96984925, -2.93969849, -2.90954774, -2.87939698,\n",
              "       -2.84924623, -2.81909548, -2.78894472, -2.75879397, -2.72864322,\n",
              "       -2.69849246, -2.66834171, -2.63819095, -2.6080402 , -2.57788945,\n",
              "       -2.54773869, -2.51758794, -2.48743719, -2.45728643, -2.42713568,\n",
              "       -2.39698492, -2.36683417, -2.33668342, -2.30653266, -2.27638191,\n",
              "       -2.24623116, -2.2160804 , -2.18592965, -2.15577889, -2.12562814,\n",
              "       -2.09547739, -2.06532663, -2.03517588, -2.00502513, -1.97487437,\n",
              "       -1.94472362, -1.91457286, -1.88442211, -1.85427136, -1.8241206 ,\n",
              "       -1.79396985, -1.7638191 , -1.73366834, -1.70351759, -1.67336683,\n",
              "       -1.64321608, -1.61306533, -1.58291457, -1.55276382, -1.52261307,\n",
              "       -1.49246231, -1.46231156, -1.4321608 , -1.40201005, -1.3718593 ,\n",
              "       -1.34170854, -1.31155779, -1.28140704, -1.25125628, -1.22110553,\n",
              "       -1.19095477, -1.16080402, -1.13065327, -1.10050251, -1.07035176,\n",
              "       -1.04020101, -1.01005025, -0.9798995 , -0.94974874, -0.91959799,\n",
              "       -0.88944724, -0.85929648, -0.82914573, -0.79899497, -0.76884422,\n",
              "       -0.73869347, -0.70854271, -0.67839196, -0.64824121, -0.61809045,\n",
              "       -0.5879397 , -0.55778894, -0.52763819, -0.49748744, -0.46733668,\n",
              "       -0.43718593, -0.40703518, -0.37688442, -0.34673367, -0.31658291,\n",
              "       -0.28643216, -0.25628141, -0.22613065, -0.1959799 , -0.16582915,\n",
              "       -0.13567839, -0.10552764, -0.07537688, -0.04522613, -0.01507538,\n",
              "        0.01507538,  0.04522613,  0.07537688,  0.10552764,  0.13567839,\n",
              "        0.16582915,  0.1959799 ,  0.22613065,  0.25628141,  0.28643216,\n",
              "        0.31658291,  0.34673367,  0.37688442,  0.40703518,  0.43718593,\n",
              "        0.46733668,  0.49748744,  0.52763819,  0.55778894,  0.5879397 ,\n",
              "        0.61809045,  0.64824121,  0.67839196,  0.70854271,  0.73869347,\n",
              "        0.76884422,  0.79899497,  0.82914573,  0.85929648,  0.88944724,\n",
              "        0.91959799,  0.94974874,  0.9798995 ,  1.01005025,  1.04020101,\n",
              "        1.07035176,  1.10050251,  1.13065327,  1.16080402,  1.19095477,\n",
              "        1.22110553,  1.25125628,  1.28140704,  1.31155779,  1.34170854,\n",
              "        1.3718593 ,  1.40201005,  1.4321608 ,  1.46231156,  1.49246231,\n",
              "        1.52261307,  1.55276382,  1.58291457,  1.61306533,  1.64321608,\n",
              "        1.67336683,  1.70351759,  1.73366834,  1.7638191 ,  1.79396985,\n",
              "        1.8241206 ,  1.85427136,  1.88442211,  1.91457286,  1.94472362,\n",
              "        1.97487437,  2.00502513,  2.03517588,  2.06532663,  2.09547739,\n",
              "        2.12562814,  2.15577889,  2.18592965,  2.2160804 ,  2.24623116,\n",
              "        2.27638191,  2.30653266,  2.33668342,  2.36683417,  2.39698492,\n",
              "        2.42713568,  2.45728643,  2.48743719,  2.51758794,  2.54773869,\n",
              "        2.57788945,  2.6080402 ,  2.63819095,  2.66834171,  2.69849246,\n",
              "        2.72864322,  2.75879397,  2.78894472,  2.81909548,  2.84924623,\n",
              "        2.87939698,  2.90954774,  2.93969849,  2.96984925,  3.        ])"
            ]
          },
          "metadata": {
            "tags": []
          },
          "execution_count": 113
        }
      ]
    },
    {
      "cell_type": "code",
      "metadata": {
        "id": "mD1KudrKFDA1"
      },
      "source": [
        "def function4(x):\n",
        "  return np.sin(x)"
      ],
      "execution_count": 114,
      "outputs": []
    },
    {
      "cell_type": "code",
      "metadata": {
        "colab": {
          "base_uri": "https://localhost:8080/",
          "height": 312
        },
        "id": "Q8RuaEt1FRsM",
        "outputId": "e4d2c885-d66b-4ea4-859d-ca64373520ac"
      },
      "source": [
        "plt.plot(np.linspace(0,20,50),function4(np.linspace(0,20,50)), \"c-*\", linewidth=3,label=\"x\")\n",
        "plt.legend()\n",
        "plt.grid()\n",
        "plt.xlabel('x')\n",
        "plt.ylabel('sin(x)')\n",
        "plt.title(\"y= sin(x) Plot\")"
      ],
      "execution_count": 115,
      "outputs": [
        {
          "output_type": "execute_result",
          "data": {
            "text/plain": [
              "Text(0.5, 1.0, 'y= sin(x) Plot')"
            ]
          },
          "metadata": {
            "tags": []
          },
          "execution_count": 115
        },
        {
          "output_type": "display_data",
          "data": {
            "image/png": "[encoded data removed]",
            "text/plain": [
              "<Figure size 432x288 with 1 Axes>"
            ]
          },
          "metadata": {
            "tags": [],
            "needs_background": "light"
          }
        }
      ]
    }
  ]
}